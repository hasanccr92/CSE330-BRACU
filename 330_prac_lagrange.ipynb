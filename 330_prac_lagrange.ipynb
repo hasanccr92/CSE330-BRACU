{
  "nbformat": 4,
  "nbformat_minor": 0,
  "metadata": {
    "colab": {
      "name": "330 prac lagrange.ipynb",
      "provenance": []
    },
    "kernelspec": {
      "name": "python3",
      "display_name": "Python 3"
    },
    "language_info": {
      "name": "python"
    }
  },
  "cells": [
    {
      "cell_type": "code",
      "execution_count": null,
      "metadata": {
        "id": "v4yBJdmJ9Q1E"
      },
      "outputs": [],
      "source": [
        "import numpy as np"
      ]
    },
    {
      "cell_type": "code",
      "source": [
        "nodes = np.array([1,2,3,4,5])\n",
        "f = np.array([2,4,6,8,10])\n",
        "\n",
        "k = 0\n",
        "x = 1.1\n",
        "degree = len(nodes) - 1\n",
        "j = 0\n",
        "\n",
        "l_k = 1\n",
        "\n",
        "for j in range(degree+1):\n",
        "    x_j = nodes[j]\n",
        "    x_k = nodes[k]\n",
        "    if x_k != x_j:\n",
        "        l_k *= (x-x_j)/(x_k-x_j)\n",
        "\n",
        "\n",
        "f_l_k = l_k * f[k]\n",
        "\n",
        "\n",
        "print(l_k)\n",
        "print(f_l_k)"
      ],
      "metadata": {
        "colab": {
          "base_uri": "https://localhost:8080/"
        },
        "id": "ilAEC_aD977S",
        "outputId": "93713184-ce71-4f6a-d8b9-0cd3a89f9b0d"
      },
      "execution_count": null,
      "outputs": [
        {
          "output_type": "stream",
          "name": "stdout",
          "text": [
            "0.8058374999999999\n",
            "1.6116749999999997\n"
          ]
        }
      ]
    },
    {
      "cell_type": "code",
      "source": [
        "import matplotlib.pyplot as plt"
      ],
      "metadata": {
        "id": "Jwbj_3yVXZlJ"
      },
      "execution_count": null,
      "outputs": []
    },
    {
      "cell_type": "code",
      "source": [
        "nodes = np.array([1,2,3,4,5])\n",
        "f = np.array([2,4,6,8,10])\n",
        "f_l_k_arr = np.zeros(5)\n",
        "k = 0\n",
        "x = 1.1\n",
        "degree = len(nodes) - 1\n",
        "j = 0\n",
        "\n",
        "l_k = 1\n",
        "for k in range(degree+1):\n",
        "    l_k = 1\n",
        "    for j in range(degree+1):\n",
        "        x_j = nodes[j]\n",
        "        x_k = nodes[k]\n",
        "        if x_k != x_j:\n",
        "            l_k *= (x-x_j)/(x_k-x_j)\n",
        "    f_l_k = l_k * f[k]\n",
        "\n",
        "    f_l_k_arr[k] += f_l_k\n",
        "\n",
        "\n",
        "plt.plot(f_l_k_arr**2)\n",
        "plt.plot(f[0:len(f)//2])\n",
        "plt.plot(f[len(f)//2:])\n",
        "plt.plot([3,4,5,6,8])\n",
        "plt.show()\n",
        "print(f_l_k_arr)\n",
        "print(len(f_l_k_arr))\n",
        "#print(l_k)\n",
        "#print(f_l_k)"
      ],
      "metadata": {
        "colab": {
          "base_uri": "https://localhost:8080/",
          "height": 301
        },
        "id": "9b-M0eWlIDCk",
        "outputId": "81ae786e-401a-4c98-e03f-5c4fa884be58"
      },
      "execution_count": null,
      "outputs": [
        {
          "output_type": "display_data",
          "data": {
            "text/plain": [
              "<Figure size 432x288 with 1 Axes>"
            ],
            "image/png": "[encoded data removed]"
          },
          "metadata": {
            "needs_background": "light"
          }
        },
        {
          "output_type": "stream",
          "name": "stdout",
          "text": [
            "[ 1.611675  1.4326   -1.52685   0.8892   -0.206625]\n",
            "5\n"
          ]
        }
      ]
    },
    {
      "cell_type": "code",
      "source": [
        ""
      ],
      "metadata": {
        "id": "ETl78EwKXuuR"
      },
      "execution_count": null,
      "outputs": []
    }
  ]
}